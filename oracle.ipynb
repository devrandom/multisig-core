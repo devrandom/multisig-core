{
 "metadata": {
  "name": "",
  "signature": "sha256:b5aaa74f12f43fe72dc3ef3d806420f6ee8ba627ff67086b181271ac5c427305"
 },
 "nbformat": 3,
 "nbformat_minor": 0,
 "worksheets": [
  {
   "cells": [
    {
     "cell_type": "heading",
     "level": 1,
     "metadata": {},
     "source": [
      "Usage example for MultiSig-core using CryptoCorp's digital oracle service"
     ]
    },
    {
     "cell_type": "markdown",
     "metadata": {},
     "source": [
      "Create our keys and retrieve the oracle account already set up"
     ]
    },
    {
     "cell_type": "code",
     "collapsed": false,
     "input": [
      "from multisigcore import *\n",
      "from multisigcore.hierarchy import MultisigAccount\n",
      "from pycoin.key.BIP32Node import BIP32Node\n",
      "from pycoin.services import get_tx_db, spendables_for_address\n",
      "from pycoin.scripts.tx import DEFAULT_VERSION\n",
      "from pycoin.tx import Tx\n",
      "from pycoin.tx.TxOut import standard_tx_out_script, TxOut\n",
      "from pycoin.tx.tx_utils import distribute_from_split_pool\n",
      "\n",
      "secrets = [u'aaa2', u'bbb2']\n",
      "keys = [BIP32Node.from_master_secret(x) for x in secrets]\n",
      "account = MultisigAccount(keys, complete=False)\n",
      "oracle = Oracle(account, tx_db=get_tx_db())\n",
      "oracle.verbose = 0\n",
      "oracle.get()"
     ],
     "language": "python",
     "metadata": {},
     "outputs": [],
     "prompt_number": 4
    },
    {
     "cell_type": "markdown",
     "metadata": {},
     "source": [
      "Create a transaction spending funds previously sent"
     ]
    },
    {
     "cell_type": "code",
     "collapsed": false,
     "input": [
      "payto = account.payto_for_path(\"\")\n",
      "address = payto.address()\n",
      "print(address)\n",
      "payables = [(address, 100000), (address, 0)]\n",
      "spendables = spendables_for_address(address)\n",
      "print(spendables)\n",
      "txs_in = []\n",
      "unspents = []\n",
      "for spendable in spendables:\n",
      "    txs_in.append(spendable.tx_in())\n",
      "    unspents.append(spendable)\n",
      "\n",
      "txs_out = []\n",
      "for address, coin_value in payables:\n",
      "    script = standard_tx_out_script(address)\n",
      "    txs_out.append(TxOut(coin_value, script))\n",
      "tx = Tx(version=DEFAULT_VERSION, txs_in=txs_in, txs_out=txs_out, unspents=unspents)\n",
      "distribute_from_split_pool(tx, 10000) # calculate change\n"
     ],
     "language": "python",
     "metadata": {},
     "outputs": [
      {
       "output_type": "stream",
       "stream": "stdout",
       "text": [
        "3Q36LncgGckopUeXizBCrXj7h21jkvCjbm\n",
        "[Spendable<2.99 mbtc \"f9acd91da626241af84644aba0329ad6ce497c630c26b3b94caa19ea3a56154e:1\" None/F/None>]"
       ]
      },
      {
       "output_type": "stream",
       "stream": "stdout",
       "text": [
        "\n"
       ]
      },
      {
       "metadata": {},
       "output_type": "pyout",
       "prompt_number": 11,
       "text": [
        "1"
       ]
      }
     ],
     "prompt_number": 11
    },
    {
     "cell_type": "markdown",
     "metadata": {},
     "source": [
      "Locally sign, then hand to Oracle for second signature"
     ]
    },
    {
     "cell_type": "code",
     "collapsed": false,
     "input": [
      "scripts = [account.script_for_path(\"\") for tx_in in txs_in]\n",
      "sub_keys = [keys[0].subkey_for_path(\"\") for tx_in in txs_in]\n",
      "local_sign(tx, scripts, sub_keys)\n",
      "res = oracle.sign(tx, [payto], [payto, payto], \"spend004\")\n",
      "print(res)\n",
      "print(res.transaction.as_hex())"
     ],
     "language": "python",
     "metadata": {},
     "outputs": [
      {
       "output_type": "stream",
       "stream": "stdout",
       "text": [
        "{'spend_id': u'2e6eaa20-c51f-11e4-9718-310c261f934b', 'now': u'2015-03-07T23:10:44Z', 'deferral': None, 'transaction': Tx [49db7e6d0e4e6e8b5a0eeee349d5df952b0dc6627765d785bf6d5e620325f354] (v:1) [TxIn<f9acd91da626241af84644aba0329ad6ce497c630c26b3b94caa19ea3a56154e[1] \"OP_0 3045022100f046ad36310bd16eef71646893fd4352837286aaac233d8fbcfd4bd3559ece3e02206fae913269a30a9219cd93b851dedc00ba14e95f8bc790503cca761f951c316701 304502210098cb3eb24e808fb7e1947646a5a20455d8d88042f8ce0ec35e3d69954d74f1ff02206a82cc64ff65e7b2728f6401e18144999619e18b93b8bcbde95d7f7e4cc38e8e01 52210271a657deeb2422734d29e31d8da66ce53f7bae33e4c9bcbe588fe921437f53072102c2a48ac23d67b78e2d6ca611ad7a31e13d42888a9e919a657960b5c4f24ad47f2103212e752354210369701564e656b2a22a61bad60988ffcea56a999222ecc5148153ae\">] [TxOut<1 mbtc \"OP_HASH160 f51ec6413a8cabc8ccae49d707773f717d44d329 OP_EQUAL\">, TxOut<1.89 mbtc \"OP_HASH160 f51ec6413a8cabc8ccae49d707773f717d44d329 OP_EQUAL\">]}\n",
        "01000000014e15563aea19aa4cb9b3260c637c49ced69a32a0ab4446f81a2426a61dd9acf901000000fdfe0000483045022100f046ad36310bd16eef71646893fd4352837286aaac233d8fbcfd4bd3559ece3e02206fae913269a30a9219cd93b851dedc00ba14e95f8bc790503cca761f951c31670148304502210098cb3eb24e808fb7e1947646a5a20455d8d88042f8ce0ec35e3d69954d74f1ff02206a82cc64ff65e7b2728f6401e18144999619e18b93b8bcbde95d7f7e4cc38e8e014c6952210271a657deeb2422734d29e31d8da66ce53f7bae33e4c9bcbe588fe921437f53072102c2a48ac23d67b78e2d6ca611ad7a31e13d42888a9e919a657960b5c4f24ad47f2103212e752354210369701564e656b2a22a61bad60988ffcea56a999222ecc5148153aeffffffff02a08601000000000017a914f51ec6413a8cabc8ccae49d707773f717d44d3298748e202000000000017a914f51ec6413a8cabc8ccae49d707773f717d44d3298700000000\n"
       ]
      }
     ],
     "prompt_number": 12
    }
   ],
   "metadata": {}
  }
 ]
}