{
 "worksheets": [
  {
   "cells": [
    {
     "cell_type": "code",
     "metadata": {},
     "outputs": [],
     "input": [
      "from multisigcore import *\n",
      "from multisigcore.hierarchy import MultisigAccount\n",
      "from pycoin.key.BIP32Node import BIP32Node\n",
      "from pycoin.services import get_tx_db, spendables_for_address\n",
      "\n",
      "keys = [BIP32Node.from_master_secret(u\"aaa1\"), BIP32Node.from_master_secret(u\"bbb1\")]\n",
      "account = MultisigAccount(keys, complete=False)\n",
      "oracle = Oracle(account, tx_db=get_tx_db())\n",
      "oracle.verbose = 0\n",
      "oracle.get()"
     ],
     "language": "python",
     "prompt_number": 22
    },
    {
     "cell_type": "code",
     "metadata": {},
     "outputs": [
      {
       "output_type": "stream",
       "stream": "stdout",
       "text": [
        "3Q36LncgGckopUeXizBCrXj7h21jkvCjbm\n[Spendable<2.99 mbtc \"f9acd91da626241af84644aba0329ad6ce497c630c26b3b94caa19ea3a56154e:1\" 0/0/0>]"
       ]
      },
      {
       "output_type": "stream",
       "stream": "stdout",
       "text": [
        "\n01000000014e15563aea19aa4cb9b3260c637c49ced69a32a0ab4446f81a2426a61dd9acf90100000000ffffffff02a08601000000000017a914f51ec6413a8cabc8ccae49d707773f717d44d3298748e202000000000017a914f51ec6413a8cabc8ccae49d707773f717d44d3298700000000f88f04000000000017a914f51ec6413a8cabc8ccae49d707773f717d44d32987\n{\"spendId\": \"spend002\", \"walletAgent\": \"multisig-core-0.01\", \"transaction\": {\"outputChainPaths\": [\"\", \"\"], \"bytes\": \"01000000014e15563aea19aa4cb9b3260c637c49ced69a32a0ab4446f81a2426a61dd9acf901000000b600483045022100f046ad36310bd16eef71646893fd4352837286aaac233d8fbcfd4bd3559ece3e02206fae913269a30a9219cd93b851dedc00ba14e95f8bc790503cca761f951c316701004c6952210271a657deeb2422734d29e31d8da66ce53f7bae33e4c9bcbe588fe921437f53072102c2a48ac23d67b78e2d6ca611ad7a31e13d42888a9e919a657960b5c4f24ad47f2103212e752354210369701564e656b2a22a61bad60988ffcea56a999222ecc5148153aeffffffff02a08601000000000017a914f51ec6413a8cabc8ccae49d707773f717d44d3298748e202000000000017a914f51ec6413a8cabc8ccae49d707773f717d44d3298700000000\", \"inputScripts\": [\"52210271a657deeb2422734d29e31d8da66ce53f7bae33e4c9bcbe588fe921437f53072102c2a48ac23d67b78e2d6ca611ad7a31e13d42888a9e919a657960b5c4f24ad47f2103212e752354210369701564e656b2a22a61bad60988ffcea56a999222ecc5148153ae\"], \"masterKeys\": [\"xpub661MyMwAqRbcFSmKAKt4a3aqPiC6MV4qTLpzdrVTNhxU7XFPK5YwrongW1H1PtnFHM47twQQvcxD3bVsDN2oXp32fHoKcg7G2DjAgpgjsRs\", \"xpub661MyMwAqRbcFFu6ZbuK9Sca89YXQLTVmqszJHWpo3tU2NZYpP3LfWeW3AsgiuKYAmUScznLi5Lhb6uixayadRWfcBY4u8yVE9gw41aAab6\"], \"chainPaths\": [\"\"], \"inputTransactions\": [\"0100000001f2ee2c1411d6a9840a1b6e08018e5564e5e15bebb012ffe9c5a70072a131d3dd01000000fdfd0000483045022100f3bdbeb43dde20df3a14f297824f2d42761fd127cac1ac7914819e1e9bc712160220095d212e4077c4ba9fddd78207f3196a57fae8f3bcb2e8032c272d7c739ffcd50147304402200765c957301ebcbd43aefd18e929d8036b568ec80033a706a4415e171d0b4b9a022053991f97759ca6fb80febdd58c1cf7e5f610d0777f77caab200cd1d5216d890e014c6952210271a657deeb2422734d29e31d8da66ce53f7bae33e4c9bcbe588fe921437f53072102c2a48ac23d67b78e2d6ca611ad7a31e13d42888a9e919a657960b5c4f24ad47f2103212e752354210369701564e656b2a22a61bad60988ffcea56a999222ecc5148153aeffffffff02400d0300000000001976a914b978398d0a9bd8cd561052cf622f9fe460dbd5ea88acf88f04000000000017a914f51ec6413a8cabc8ccae49d707773f717d44d3298700000000\"]}}"
       ]
      },
      {
       "output_type": "stream",
       "stream": "stdout",
       "text": [
        "\n{'spend_id': u'bda116b0-c51a-11e4-9718-310c261f934b', 'now': u'2015-03-07T22:38:56Z', 'deferral': None, 'transaction': Tx [d632615e3e6a1f3299e4ba48bc7888880270c3d22f276bc4879446f9aa229313] (v:1) [TxIn<f9acd91da626241af84644aba0329ad6ce497c630c26b3b94caa19ea3a56154e[1] \"OP_0 3045022100f046ad36310bd16eef71646893fd4352837286aaac233d8fbcfd4bd3559ece3e02206fae913269a30a9219cd93b851dedc00ba14e95f8bc790503cca761f951c316701 30450221009c93876a80a2f2feb6a2975d3e5507cb459afffb9f42410d85f7e0bc14b7c53c0220704fc47d1e39c00b1da2c06ab2661980d3b7cb2f1fcda1d47e68b659dd1baac901 52210271a657deeb2422734d29e31d8da66ce53f7bae33e4c9bcbe588fe921437f53072102c2a48ac23d67b78e2d6ca611ad7a31e13d42888a9e919a657960b5c4f24ad47f2103212e752354210369701564e656b2a22a61bad60988ffcea56a999222ecc5148153ae\">] [TxOut<1 mbtc \"OP_HASH160 f51ec6413a8cabc8ccae49d707773f717d44d329 OP_EQUAL\">, TxOut<1.89 mbtc \"OP_HASH160 f51ec6413a8cabc8ccae49d707773f717d44d329 OP_EQUAL\">]}"
       ]
      },
      {
       "output_type": "stream",
       "stream": "stdout",
       "text": [
        "\n"
       ]
      }
     ],
     "input": [
      "from pycoin.scripts.tx import DEFAULT_VERSION\n",
      "from pycoin.tx import Tx\n",
      "from pycoin.tx.TxOut import standard_tx_out_script, TxOut\n",
      "from pycoin.tx.tx_utils import distribute_from_split_pool\n",
      "\n",
      "payto = account.payto_for_path(\"\")\n",
      "address = payto.address()\n",
      "print(address)\n",
      "payables = [(address, 100000), (address, 0)]\n",
      "spendables = spendables_for_address(address)\n",
      "print(spendables)\n",
      "txs_in = []\n",
      "unspents = []\n",
      "for spendable in spendables:\n",
      "    txs_in.append(spendable.tx_in())\n",
      "    unspents.append(spendable)\n",
      "\n",
      "txs_out = []\n",
      "for address, coin_value in payables:\n",
      "    script = standard_tx_out_script(address)\n",
      "    txs_out.append(TxOut(coin_value, script))\n",
      "tx = Tx(version=DEFAULT_VERSION, txs_in=txs_in, txs_out=txs_out, unspents=unspents)\n",
      "distribute_from_split_pool(tx, 10000)\n",
      "print(tx.as_hex(True))\n",
      "scripts = [account.script_for_path(\"\") for tx_in in txs_in]\n",
      "sub_keys = [keys[0].subkey_for_path(\"\") for tx_in in txs_in]\n",
      "local_sign(tx, scripts, sub_keys)\n",
      "res = oracle.sign(tx, [payto], [payto, payto], \"spend002\")\n",
      "print(res)\n",
      "print(res.transaction.as_hex())"
     ],
     "language": "python",
     "prompt_number": 26
    },
    {
     "cell_type": "code",
     "metadata": {},
     "outputs": [],
     "input": [
      ""
     ],
     "language": "python"
    }
   ]
  }
 ],
 "cells": [],
 "metadata": {
  "name": "",
  "signature": "sha256:ce3ba64879a70c52248d01eb2230ae46b003df1c5f2e5ecbd179f483bb95e578"
 },
 "nbformat": 3,
 "nbformat_minor": 0
}