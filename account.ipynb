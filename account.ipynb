{
 "cells": [
  {
   "cell_type": "markdown",
   "metadata": {},
   "source": [
    "# Usage example for MultiSig-core accounts"
   ]
  },
  {
   "cell_type": "markdown",
   "metadata": {},
   "source": [
    "Create an account and a spending transaction"
   ]
  },
  {
   "cell_type": "code",
   "execution_count": 15,
   "metadata": {
    "collapsed": false
   },
   "outputs": [
    {
     "name": "stdout",
     "output_type": "stream",
     "text": [
      "mrwTaLGEyikp3cum5CELD5sCzrwnDqMyRN\n",
      "b'v\\xa9\\x14}K\\xcf\\x19(\\xfd\\xf1\\x0bG\\x83i\\xeb\\x83\\x8d$\\x18\\x86\\xac,\\xe3\\x88\\xac'\n",
      "b'v\\xa9\\x14}K\\xcf\\x19(\\xfd\\xf1\\x0bG\\x83i\\xeb\\x83\\x8d$\\x18\\x86\\xac,\\xe3\\x88\\xac'\n",
      "OP_DUP OP_HASH160 7d4bcf1928fdf10b478369eb838d241886ac2ce3 OP_EQUALVERIFY OP_CHECKSIG\n",
      "Version:  1  tx hash c2bc74c0a7438231c16ee621f8b7e343cea752ce7e15aa4ad0c6c863a3b29aee  119 bytes   \n",
      "TxIn count: 1; TxOut count: 2\n",
      "Lock time: 0 (valid anytime)\n",
      "Input:\n",
      "  0: mrwTaLGEyikp3cum5CELD5sCzrwnDqMyRN from a35ad7e294ac07e1b4e848ec8f0c9a15b4dcd6e4516072186686159be7649535:0      1.00000 mBTC  BAD SIG\n",
      "Outputs:\n",
      "  0: mvccWwntgfQaj7TVYEw2C2avymxHwjixDz receives      0.01000 mBTC\n",
      "  1: mxQTvWWBLv6f1LScNcFHrdpMTijKGHQmmz receives      0.98000 mBTC\n",
      "Total input       1.00000 mBTC\n",
      "Total output      0.99000 mBTC\n",
      "Total fees        0.01000 mBTC\n"
     ]
    }
   ],
   "source": [
    "from multisigcore.hierarchy import *\n",
    "from pycoin.key.BIP32Node import BIP32Node\n",
    "from pycoin.services import insight\n",
    "from pycoin.scripts.tx import dump_tx\n",
    "from pycoin.tx.script.tools import *\n",
    "\n",
    "secrets = [b'aaa2', b'bbb2']\n",
    "keys = [BIP32Node.from_master_secret(x, netcode='XTN') for x in secrets]\n",
    "a = SimpleAccount(keys[0])\n",
    "a._provider = insight.InsightService('https://test-insight.bitpay.com/')\n",
    "print(a.current_address())\n",
    "s = a.spendables()[0].script\n",
    "print(s)\n",
    "print(compile(disassemble(s)))\n",
    "print(disassemble(s))\n",
    "dump_tx(a.tx([('mvccWwntgfQaj7TVYEw2C2avymxHwjixDz', 1000)]), netcode='XTN')\n"
   ]
  }
 ],
 "metadata": {
  "kernelspec": {
   "display_name": "Python 3",
   "language": "python",
   "name": "python3"
  },
  "language_info": {
   "codemirror_mode": {
    "name": "ipython",
    "version": 3
   },
   "file_extension": ".py",
   "mimetype": "text/x-python",
   "name": "python",
   "nbconvert_exporter": "python",
   "pygments_lexer": "ipython3",
   "version": "3.4.2"
  }
 },
 "nbformat": 4,
 "nbformat_minor": 0
}
